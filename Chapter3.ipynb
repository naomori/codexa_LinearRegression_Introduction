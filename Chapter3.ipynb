{
  "nbformat": 4,
  "nbformat_minor": 0,
  "metadata": {
    "colab": {
      "name": "Chapter3.ipynb",
      "version": "0.3.2",
      "provenance": [],
      "include_colab_link": true
    },
    "kernelspec": {
      "name": "python3",
      "display_name": "Python 3"
    }
  },
  "cells": [
    {
      "cell_type": "markdown",
      "metadata": {
        "id": "view-in-github",
        "colab_type": "text"
      },
      "source": [
        "<a href=\"https://colab.research.google.com/github/naomori/codexa_LinearRegression_Introduction/blob/master/Chapter3.ipynb\" target=\"_parent\"><img src=\"https://colab.research.google.com/assets/colab-badge.svg\" alt=\"Open In Colab\"/></a>"
      ]
    },
    {
      "cell_type": "markdown",
      "metadata": {
        "id": "528iqxncnKA7",
        "colab_type": "text"
      },
      "source": [
        "# 機械学習とは？\n",
        "\n",
        "いろんな定義がある。\n",
        "\n",
        "* Nvidia: アルゴリズムを使用してデータを解析し、学習をして予測を行う\n",
        "* Stanford: 明示的にプログラミングをすることなく動作させる科学\n",
        "* Washington: 例から一般化することによって重要なタスクを実行する方法"
      ]
    },
    {
      "cell_type": "markdown",
      "metadata": {
        "id": "zIcvHV_-ntYi",
        "colab_type": "text"
      },
      "source": [
        "## AIと機械学習の関係\n",
        "\n",
        "AIという言葉には明確な定義がない。広い意味で用いられる。"
      ]
    },
    {
      "cell_type": "markdown",
      "metadata": {
        "id": "YaMmbTYhoUmM",
        "colab_type": "text"
      },
      "source": [
        "# 機械学習の具体的な活用事例\n",
        "\n",
        "* Siri\n",
        "* Facebook\n",
        "  - 顔認識\n",
        "* Google Map\n",
        "  - 画像を使って地図データを詳細化\n",
        "* NetFlix\n",
        "  - おすすめの提供\n",
        "* Gmail\n",
        "  - 返信のテンプレート"
      ]
    },
    {
      "cell_type": "code",
      "metadata": {
        "id": "-yzD8lmnnHgp",
        "colab_type": "code",
        "colab": {}
      },
      "source": [
        ""
      ],
      "execution_count": 0,
      "outputs": []
    }
  ]
}