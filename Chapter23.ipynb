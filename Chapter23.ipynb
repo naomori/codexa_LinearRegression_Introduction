{
  "nbformat": 4,
  "nbformat_minor": 0,
  "metadata": {
    "colab": {
      "name": "Chapter23.ipynb",
      "version": "0.3.2",
      "provenance": [],
      "include_colab_link": true
    },
    "kernelspec": {
      "name": "python3",
      "display_name": "Python 3"
    }
  },
  "cells": [
    {
      "cell_type": "markdown",
      "metadata": {
        "id": "view-in-github",
        "colab_type": "text"
      },
      "source": [
        "<a href=\"https://colab.research.google.com/github/naomori/codexa_LinearRegression_Introduction/blob/master/Chapter23.ipynb\" target=\"_parent\"><img src=\"https://colab.research.google.com/assets/colab-badge.svg\" alt=\"Open In Colab\"/></a>"
      ]
    },
    {
      "cell_type": "markdown",
      "metadata": {
        "id": "BfVYm5MYZKlN",
        "colab_type": "text"
      },
      "source": [
        "# 特徴量の正規化\n",
        "\n",
        "## z-score normalization\n",
        "\n",
        "$x_1 = \\frac{x_1 - x_{mean}}{std}$"
      ]
    },
    {
      "cell_type": "code",
      "metadata": {
        "id": "_os6DGn7Zd9c",
        "colab_type": "code",
        "colab": {}
      },
      "source": [
        "import numpy as np\n",
        "import matplotlib.pyplot as plt\n",
        "from mpl_toolkits.mplot3d import Axes3D"
      ],
      "execution_count": 0,
      "outputs": []
    },
    {
      "cell_type": "code",
      "metadata": {
        "id": "qa-h0UHjZHmu",
        "colab_type": "code",
        "colab": {}
      },
      "source": [
        "# csvファイルの読み込み\n",
        "data = np.loadtxt('007-02/007-02.csv', delimiter=',', skiprows=1)"
      ],
      "execution_count": 0,
      "outputs": []
    },
    {
      "cell_type": "code",
      "metadata": {
        "id": "efCYB5eNZYhr",
        "colab_type": "code",
        "colab": {
          "base_uri": "https://localhost:8080/",
          "height": 52
        },
        "outputId": "82b7a2a8-a1ec-46a6-b58c-7beea56370f5"
      },
      "source": [
        "# 正規化(Z-score normalization)\n",
        "print(data.shape)\n",
        "print(data.shape[0], data.shape[1])\n",
        "\n",
        "def norm(X):\n",
        "  X_norm = np.zeros(X.shape)\n",
        "  mean = np.zeros((1,X.shape[1]))\n",
        "  std  = np.zeros((1,X.shape[1]))\n",
        "  for i in range(X.shape[1]):\n",
        "    mean[:, i] = np.mean(X[:, i])\n",
        "    std[:, i] = np.std(X[:, i])\n",
        "    X_norm[:, i] = (X[:, i] - float(mean[:, i]))/float(std[:, i])\n",
        "  return X_norm, mean, std\n",
        "  "
      ],
      "execution_count": 20,
      "outputs": [
        {
          "output_type": "stream",
          "text": [
            "(99, 4)\n",
            "99 4\n"
          ],
          "name": "stdout"
        }
      ]
    },
    {
      "cell_type": "code",
      "metadata": {
        "id": "ll2Hf705Z9ne",
        "colab_type": "code",
        "colab": {}
      },
      "source": [
        "X_norm, mean, std = norm(data)"
      ],
      "execution_count": 0,
      "outputs": []
    },
    {
      "cell_type": "code",
      "metadata": {
        "id": "4VVWwD1hbFGF",
        "colab_type": "code",
        "colab": {
          "base_uri": "https://localhost:8080/",
          "height": 104
        },
        "outputId": "03702013-0a73-49ae-afd8-4c901a907dce"
      },
      "source": [
        "X_norm[0:5, :]"
      ],
      "execution_count": 22,
      "outputs": [
        {
          "output_type": "execute_result",
          "data": {
            "text/plain": [
              "array([[-1.28095057, -0.76202794, -0.45626449, -0.61960054],\n",
              "       [-0.10238081, -0.05223579, -1.002678  , -0.70722976],\n",
              "       [-1.75237847, -1.57321897, -1.73122936, -1.58352195],\n",
              "       [ 1.07618895,  1.36734852,  1.36511391,  1.3958715 ],\n",
              "       [ 0.60476105,  1.36734852,  0.36335579,  0.60720853]])"
            ]
          },
          "metadata": {
            "tags": []
          },
          "execution_count": 22
        }
      ]
    },
    {
      "cell_type": "code",
      "metadata": {
        "id": "8UqUMFwmbHZF",
        "colab_type": "code",
        "colab": {
          "base_uri": "https://localhost:8080/",
          "height": 104
        },
        "outputId": "a7d74a53-beef-4c82-a7d9-913fa15e4443"
      },
      "source": [
        "data[0:5, :]"
      ],
      "execution_count": 25,
      "outputs": [
        {
          "output_type": "execute_result",
          "data": {
            "text/plain": [
              "array([[64., 67., 69., 68.],\n",
              "       [74., 74., 63., 67.],\n",
              "       [60., 59., 55., 57.],\n",
              "       [84., 88., 89., 91.],\n",
              "       [80., 88., 78., 82.]])"
            ]
          },
          "metadata": {
            "tags": []
          },
          "execution_count": 25
        }
      ]
    },
    {
      "cell_type": "code",
      "metadata": {
        "id": "jC63GuEHcCRT",
        "colab_type": "code",
        "colab": {
          "base_uri": "https://localhost:8080/",
          "height": 34
        },
        "outputId": "43e8445f-3922-401b-bf27-e4a61fbc165e"
      },
      "source": [
        "X_norm.mean()"
      ],
      "execution_count": 26,
      "outputs": [
        {
          "output_type": "execute_result",
          "data": {
            "text/plain": [
              "5.3828995133340925e-17"
            ]
          },
          "metadata": {
            "tags": []
          },
          "execution_count": 26
        }
      ]
    },
    {
      "cell_type": "code",
      "metadata": {
        "id": "6D-DKMZecgu9",
        "colab_type": "code",
        "colab": {
          "base_uri": "https://localhost:8080/",
          "height": 34
        },
        "outputId": "c5da4bc3-b39e-406e-ea0d-2fa53cd8a758"
      },
      "source": [
        "X_norm.std()"
      ],
      "execution_count": 27,
      "outputs": [
        {
          "output_type": "execute_result",
          "data": {
            "text/plain": [
              "1.0"
            ]
          },
          "metadata": {
            "tags": []
          },
          "execution_count": 27
        }
      ]
    },
    {
      "cell_type": "code",
      "metadata": {
        "id": "j0fiQbkfciw5",
        "colab_type": "code",
        "colab": {}
      },
      "source": [
        ""
      ],
      "execution_count": 0,
      "outputs": []
    }
  ]
}