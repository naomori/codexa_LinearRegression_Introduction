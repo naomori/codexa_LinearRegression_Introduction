{
  "nbformat": 4,
  "nbformat_minor": 0,
  "metadata": {
    "colab": {
      "name": "Chapter16.ipynb",
      "version": "0.3.2",
      "provenance": [],
      "include_colab_link": true
    },
    "kernelspec": {
      "name": "python3",
      "display_name": "Python 3"
    }
  },
  "cells": [
    {
      "cell_type": "markdown",
      "metadata": {
        "id": "view-in-github",
        "colab_type": "text"
      },
      "source": [
        "<a href=\"https://colab.research.google.com/github/naomori/codexa_LinearRegression_Introduction/blob/master/Chapter16.ipynb\" target=\"_parent\"><img src=\"https://colab.research.google.com/assets/colab-badge.svg\" alt=\"Open In Colab\"/></a>"
      ]
    },
    {
      "cell_type": "markdown",
      "metadata": {
        "id": "3qg-wWv3fQmu",
        "colab_type": "text"
      },
      "source": [
        "# コスト関数の作成\n",
        "\n",
        "#### 線形モデル\n",
        "\n",
        "$\\hat{y} = w_{1}x + w_{0}$\n",
        "\n",
        "#### コスト関数\n",
        "\n",
        "$J(w_0, w_1) = \\frac{1}{2m}\\sum_{i=1}^{m}(\\hat{y_i}-y_i)^2$\n",
        "\n",
        "#### コスト関数の $\\hat{y}$ へ線形モデルの式を代入\n",
        "\n",
        "$J(w_0, w_1) = \\frac{1}{2m}\\sum_{i=1}^{m}((w_{1}x + w_{0})-y_i)^2$"
      ]
    },
    {
      "cell_type": "code",
      "metadata": {
        "id": "Ihq7GFmyfJcs",
        "colab_type": "code",
        "colab": {}
      },
      "source": [
        "import numpy as np\n",
        "import matplotlib.pyplot as plt"
      ],
      "execution_count": 0,
      "outputs": []
    },
    {
      "cell_type": "code",
      "metadata": {
        "id": "7fPBD15bf9xi",
        "colab_type": "code",
        "colab": {}
      },
      "source": [
        "data = np.loadtxt(\"007-01/007-01.csv\", delimiter=\",\", skiprows=1)"
      ],
      "execution_count": 0,
      "outputs": []
    },
    {
      "cell_type": "code",
      "metadata": {
        "id": "XO_oC9nCf_55",
        "colab_type": "code",
        "colab": {
          "base_uri": "https://localhost:8080/",
          "height": 283
        },
        "outputId": "28dd0e77-389d-425e-f802-7268fba747d8"
      },
      "source": [
        "plt.plot(data[:, 0], data[:, 1], 'rx', markersize=10, label='Training')\n",
        "plt.xlabel('Study Hours')\n",
        "plt.ylabel('Test Score')\n",
        "plt.grid(True)\n",
        "plt.show()"
      ],
      "execution_count": 3,
      "outputs": [
        {
          "output_type": "display_data",
          "data": {
            "image/png": "[encoded data removed]",
            "text/plain": [
              "<Figure size 432x288 with 1 Axes>"
            ]
          },
          "metadata": {
            "tags": []
          }
        }
      ]
    },
    {
      "cell_type": "markdown",
      "metadata": {
        "id": "5tlJ1ZZEgdcg",
        "colab_type": "text"
      },
      "source": [
        "#### コスト関数を Python で実現する\n",
        "\n",
        "​\n",
        "$J(w_0, w_1) = \\frac{1}{2m}\\sum_{i=1}^{m}((w_{1}x + w_{0})-y_i)^2$"
      ]
    },
    {
      "cell_type": "code",
      "metadata": {
        "id": "mWQiObIqgCBa",
        "colab_type": "code",
        "colab": {
          "base_uri": "https://localhost:8080/",
          "height": 34
        },
        "outputId": "069674f2-10fb-4f0c-ab65-301cdd6dc54f"
      },
      "source": [
        "def cost(w0, w1, data):\n",
        "  cost = 0\n",
        "  for i in range(0, len(data)):\n",
        "    x = data[i, 0]\n",
        "    y = data[i, 1]\n",
        "    cost += ((w1*x + w0) - y)**2\n",
        "  cost /= (len(data)*2)\n",
        "  return cost\n",
        "\n",
        "w0, w1 = 0, 0\n",
        "cost_0 = cost(w0, w1, data)\n",
        "print(cost_0)\n",
        "    "
      ],
      "execution_count": 4,
      "outputs": [
        {
          "output_type": "stream",
          "text": [
            "3128.3979591836733\n"
          ],
          "name": "stdout"
        }
      ]
    },
    {
      "cell_type": "code",
      "metadata": {
        "id": "3pVdy_j2hHZN",
        "colab_type": "code",
        "colab": {
          "base_uri": "https://localhost:8080/",
          "height": 283
        },
        "outputId": "83d07bbf-cb48-4970-ffe8-ad461876c83c"
      },
      "source": [
        "plt.plot(data[:, 0], data[:, 1], 'rx', markersize=10, label='Training')\n",
        "plt.xlabel('Study Hours')\n",
        "plt.ylabel('Test Score')\n",
        "\n",
        "# w0, w1 の直線をグラフに書く\n",
        "plt.plot(data[:, 0], data[:, 0]*w1 + w0, '-', label='Linear regression')\n",
        "plt.legend()\n",
        "plt.show()"
      ],
      "execution_count": 5,
      "outputs": [
        {
          "output_type": "display_data",
          "data": {
            "image/png": "[encoded data removed]",
            "text/plain": [
              "<Figure size 432x288 with 1 Axes>"
            ]
          },
          "metadata": {
            "tags": []
          }
        }
      ]
    },
    {
      "cell_type": "code",
      "metadata": {
        "id": "JY3xNZaNhvnT",
        "colab_type": "code",
        "colab": {
          "base_uri": "https://localhost:8080/",
          "height": 283
        },
        "outputId": "c9ab9d17-a63a-4793-d0a9-212c4690086b"
      },
      "source": [
        "plt.scatter(data[:, 0], data[:, 1], c='r', marker='x', s=100, label='Training')\n",
        "plt.xlabel('Study Hours')\n",
        "plt.ylabel('Test Scores')\n",
        "\n",
        "plt.plot(data[:, 0],data[:, 0] * w1 + w0,'-', label='Linear regression')\n",
        "plt.legend()\n",
        "plt.show()"
      ],
      "execution_count": 8,
      "outputs": [
        {
          "output_type": "display_data",
          "data": {
            "image/png": "[encoded data removed]",
            "text/plain": [
              "<Figure size 432x288 with 1 Axes>"
            ]
          },
          "metadata": {
            "tags": []
          }
        }
      ]
    },
    {
      "cell_type": "code",
      "metadata": {
        "id": "gk6HPRyZiCMl",
        "colab_type": "code",
        "colab": {}
      },
      "source": [
        ""
      ],
      "execution_count": 0,
      "outputs": []
    }
  ]
}