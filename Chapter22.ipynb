{
  "nbformat": 4,
  "nbformat_minor": 0,
  "metadata": {
    "colab": {
      "name": "Chapter22.ipynb",
      "version": "0.3.2",
      "provenance": [],
      "include_colab_link": true
    },
    "kernelspec": {
      "name": "python3",
      "display_name": "Python 3"
    }
  },
  "cells": [
    {
      "cell_type": "markdown",
      "metadata": {
        "id": "view-in-github",
        "colab_type": "text"
      },
      "source": [
        "<a href=\"https://colab.research.google.com/github/naomori/codexa_LinearRegression_Introduction/blob/master/Chapter22.ipynb\" target=\"_parent\"><img src=\"https://colab.research.google.com/assets/colab-badge.svg\" alt=\"Open In Colab\"/></a>"
      ]
    },
    {
      "cell_type": "markdown",
      "metadata": {
        "id": "40nh17qEy8D0",
        "colab_type": "text"
      },
      "source": [
        "# プログラミング実習（重回帰分析）\n",
        "\n",
        "複数の特徴量を持つ線形回帰\n",
        "\n"
      ]
    },
    {
      "cell_type": "code",
      "metadata": {
        "id": "OQv60di9y4av",
        "colab_type": "code",
        "colab": {
          "base_uri": "https://localhost:8080/",
          "height": 246
        },
        "outputId": "1d4435a3-3094-4ad7-b699-1a9c3eccf8c7"
      },
      "source": [
        "!wget https://www.codexa.net/wp-content/uploads/2018/05/007-02.zip"
      ],
      "execution_count": 1,
      "outputs": [
        {
          "output_type": "stream",
          "text": [
            "--2019-07-30 02:54:47--  https://www.codexa.net/wp-content/uploads/2018/05/007-02.zip\n",
            "Resolving www.codexa.net (www.codexa.net)... 54.64.62.39, 13.115.61.79\n",
            "Connecting to www.codexa.net (www.codexa.net)|54.64.62.39|:443... connected.\n",
            "HTTP request sent, awaiting response... 200 OK\n",
            "Length: 1422 (1.4K) [application/zip]\n",
            "Saving to: ‘007-02.zip’\n",
            "\n",
            "\r007-02.zip            0%[                    ]       0  --.-KB/s               \r007-02.zip          100%[===================>]   1.39K  --.-KB/s    in 0s      \n",
            "\n",
            "2019-07-30 02:54:48 (184 MB/s) - ‘007-02.zip’ saved [1422/1422]\n",
            "\n",
            "007-01\t007-01.zip  007-02.zip\t__MACOSX  sample_data\n"
          ],
          "name": "stdout"
        }
      ]
    },
    {
      "cell_type": "code",
      "metadata": {
        "id": "UFjhdcSKzSSe",
        "colab_type": "code",
        "colab": {
          "base_uri": "https://localhost:8080/",
          "height": 121
        },
        "outputId": "071dfbd4-47f1-4a01-e051-68e34787c4a6"
      },
      "source": [
        "!unzip 007-02.zip\n",
        "!ls 007-02"
      ],
      "execution_count": 3,
      "outputs": [
        {
          "output_type": "stream",
          "text": [
            "Archive:  007-02.zip\n",
            "   creating: 007-02/\n",
            "  inflating: 007-02/007-02.csv       \n",
            "   creating: __MACOSX/007-02/\n",
            "  inflating: __MACOSX/007-02/._007-02.csv  \n",
            "007-02.csv\n"
          ],
          "name": "stdout"
        }
      ]
    },
    {
      "cell_type": "code",
      "metadata": {
        "id": "rVoQDxFVzW2x",
        "colab_type": "code",
        "colab": {}
      },
      "source": [
        "import numpy as np\n",
        "import matplotlib.pyplot as plt\n",
        "from mpl_toolkits.mplot3d import Axes3D"
      ],
      "execution_count": 0,
      "outputs": []
    },
    {
      "cell_type": "code",
      "metadata": {
        "id": "ljrBgez1zr7w",
        "colab_type": "code",
        "colab": {}
      },
      "source": [
        ""
      ],
      "execution_count": 0,
      "outputs": []
    }
  ]
}