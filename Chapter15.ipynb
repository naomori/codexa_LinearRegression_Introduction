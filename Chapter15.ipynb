{
  "nbformat": 4,
  "nbformat_minor": 0,
  "metadata": {
    "colab": {
      "name": "Chapter15.ipynb",
      "version": "0.3.2",
      "provenance": [],
      "include_colab_link": true
    },
    "kernelspec": {
      "name": "python3",
      "display_name": "Python 3"
    }
  },
  "cells": [
    {
      "cell_type": "markdown",
      "metadata": {
        "id": "view-in-github",
        "colab_type": "text"
      },
      "source": [
        "<a href=\"https://colab.research.google.com/github/naomori/codexa_LinearRegression_Introduction/blob/master/Chapter15.ipynb\" target=\"_parent\"><img src=\"https://colab.research.google.com/assets/colab-badge.svg\" alt=\"Open In Colab\"/></a>"
      ]
    },
    {
      "cell_type": "markdown",
      "metadata": {
        "id": "dI61-McpcEhl",
        "colab_type": "text"
      },
      "source": [
        "# データの読み込みと確認\n",
        "\n"
      ]
    },
    {
      "cell_type": "code",
      "metadata": {
        "id": "QfOin4k4b_9m",
        "colab_type": "code",
        "colab": {
          "base_uri": "https://localhost:8080/",
          "height": 34
        },
        "outputId": "dfc8c9d0-01cb-4174-ed82-3add92be69c6"
      },
      "source": [
        "!head 007-01/007-01.csv"
      ],
      "execution_count": 2,
      "outputs": [
        {
          "output_type": "stream",
          "text": [
            "Hour,Point\r5.2,78\r4.2,77\r7.6,95\r2.7,66\r9.1,91\r1.3,59\r3.6,72\r9.4,100\r6.8,88\r8.5,89\r8.4,98\r2.6,71\r2.8,66\r4.0,73\r6.9,88\r5.2,83\r7.9,96\r4.6,76\r5.4,85\r5.4,79\r5.2,83\r4.4,80\r2.2,68\r2.1,64\r3.4,69\r1.2,57\r0.2,58\r2.0,63\r4.7,77\r4.5,78\r5.5,84\r8.3,97\r4.3,75\r0.9,62\r5.8,82\r8.2,100\r6.1,87\r3.3,73\r6.3,88\r6.6,89\r4.5,78\r3.8,74\r3.8,73\r4.7,80\r1.5,60\r5.0,81\r9.1,91\r4.3,74\r1.3,58"
          ],
          "name": "stdout"
        }
      ]
    },
    {
      "cell_type": "code",
      "metadata": {
        "id": "yCIfSkzfcR6d",
        "colab_type": "code",
        "colab": {}
      },
      "source": [
        "import numpy as np\n",
        "import matplotlib.pyplot as plt"
      ],
      "execution_count": 0,
      "outputs": []
    },
    {
      "cell_type": "code",
      "metadata": {
        "id": "OQyo2sa7cdLK",
        "colab_type": "code",
        "colab": {
          "base_uri": "https://localhost:8080/",
          "height": 34
        },
        "outputId": "5649bbaa-20a6-4095-c0aa-7af1cfd7389c"
      },
      "source": [
        "data = np.loadtxt(\"007-01/007-01.csv\", delimiter=\",\", skiprows=1)\n",
        "print(data.shape)"
      ],
      "execution_count": 10,
      "outputs": [
        {
          "output_type": "stream",
          "text": [
            "(49, 2)\n"
          ],
          "name": "stdout"
        }
      ]
    },
    {
      "cell_type": "markdown",
      "metadata": {
        "id": "jxYazKyGd0oP",
        "colab_type": "text"
      },
      "source": [
        "red で x 印のマーカーポイントをつける"
      ]
    },
    {
      "cell_type": "code",
      "metadata": {
        "id": "9zhPws2fc8My",
        "colab_type": "code",
        "colab": {
          "base_uri": "https://localhost:8080/",
          "height": 283
        },
        "outputId": "3af4d4c9-9cf1-44d9-e1d4-d3c14df2e49c"
      },
      "source": [
        "plt.plot(data[:, 0], data[:, 1], 'rx', markersize=10, label='Training')\n",
        "plt.xlabel('Study Hours')\n",
        "plt.ylabel('Test Score')\n",
        "plt.grid(True)\n",
        "plt.show()"
      ],
      "execution_count": 11,
      "outputs": [
        {
          "output_type": "display_data",
          "data": {
            "image/png": "[encoded data removed]",
            "text/plain": [
              "<Figure size 432x288 with 1 Axes>"
            ]
          },
          "metadata": {
            "tags": []
          }
        }
      ]
    },
    {
      "cell_type": "code",
      "metadata": {
        "id": "nzUGc0bsc9Kk",
        "colab_type": "code",
        "colab": {
          "base_uri": "https://localhost:8080/",
          "height": 283
        },
        "outputId": "13967190-555c-437b-9b3d-6445a60d9e0f"
      },
      "source": [
        "plt.scatter(data[:, 0], data[:, 1], c='r', marker='x', s=100)\n",
        "plt.xlabel('Study Hours')\n",
        "plt.ylabel('Test Score')\n",
        "plt.grid(True)\n",
        "plt.show()"
      ],
      "execution_count": 18,
      "outputs": [
        {
          "output_type": "display_data",
          "data": {
            "image/png": "[encoded data removed]",
            "text/plain": [
              "<Figure size 432x288 with 1 Axes>"
            ]
          },
          "metadata": {
            "tags": []
          }
        }
      ]
    },
    {
      "cell_type": "code",
      "metadata": {
        "id": "tb9S7KNNeZz_",
        "colab_type": "code",
        "colab": {}
      },
      "source": [
        ""
      ],
      "execution_count": 0,
      "outputs": []
    }
  ]
}