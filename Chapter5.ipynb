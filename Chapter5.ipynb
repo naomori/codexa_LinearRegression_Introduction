{
  "nbformat": 4,
  "nbformat_minor": 0,
  "metadata": {
    "colab": {
      "name": "Chapter5.ipynb",
      "version": "0.3.2",
      "provenance": [],
      "include_colab_link": true
    },
    "kernelspec": {
      "name": "python3",
      "display_name": "Python 3"
    }
  },
  "cells": [
    {
      "cell_type": "markdown",
      "metadata": {
        "id": "view-in-github",
        "colab_type": "text"
      },
      "source": [
        "<a href=\"https://colab.research.google.com/github/naomori/codexa_LinearRegression_Introduction/blob/master/Chapter5.ipynb\" target=\"_parent\"><img src=\"https://colab.research.google.com/assets/colab-badge.svg\" alt=\"Open In Colab\"/></a>"
      ]
    },
    {
      "cell_type": "markdown",
      "metadata": {
        "id": "Jcl80ukOqa1l",
        "colab_type": "text"
      },
      "source": [
        "# 教師なし学習（Unsupervised Learning）\n",
        "\n",
        "学習データに正解ラベルを付けないで学習する方法\n",
        "\n",
        "* クラスタリング: 特徴ごとにグループに分ける\n"
      ]
    },
    {
      "cell_type": "code",
      "metadata": {
        "id": "jZRLHoUtqXKS",
        "colab_type": "code",
        "colab": {}
      },
      "source": [
        ""
      ],
      "execution_count": 0,
      "outputs": []
    }
  ]
}