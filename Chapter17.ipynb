{
  "nbformat": 4,
  "nbformat_minor": 0,
  "metadata": {
    "colab": {
      "name": "Chapter17.ipynb",
      "version": "0.3.2",
      "provenance": [],
      "include_colab_link": true
    },
    "kernelspec": {
      "name": "python3",
      "display_name": "Python 3"
    }
  },
  "cells": [
    {
      "cell_type": "markdown",
      "metadata": {
        "id": "view-in-github",
        "colab_type": "text"
      },
      "source": [
        "<a href=\"https://colab.research.google.com/github/naomori/codexa_LinearRegression_Introduction/blob/master/Chapter17.ipynb\" target=\"_parent\"><img src=\"https://colab.research.google.com/assets/colab-badge.svg\" alt=\"Open In Colab\"/></a>"
      ]
    },
    {
      "cell_type": "markdown",
      "metadata": {
        "id": "x4sMqDU4iz3Q",
        "colab_type": "text"
      },
      "source": [
        "# 最急降下法の作成\n",
        "\n",
        "$w0 := w_0 - \\alpha\\frac{1}{m}\\sum_{i=1}^{m}(((w_{1}x + w_{0})-y_i)$\n",
        "\n",
        "$w1 := w_1 - \\alpha\\frac{1}{m}\\sum_{i=1}^{m}(((w_{1}x + w_{0})-y_i) \\times x_i$"
      ]
    },
    {
      "cell_type": "code",
      "metadata": {
        "id": "PjAMjkUaix-z",
        "colab_type": "code",
        "colab": {}
      },
      "source": [
        "import numpy as np\n",
        "import matplotlib.pyplot as plt"
      ],
      "execution_count": 0,
      "outputs": []
    },
    {
      "cell_type": "code",
      "metadata": {
        "id": "VDVufahnjsjK",
        "colab_type": "code",
        "colab": {}
      },
      "source": [
        "data = np.loadtxt(\"007-01/007-01.csv\", delimiter=\",\", skiprows=1)"
      ],
      "execution_count": 0,
      "outputs": []
    },
    {
      "cell_type": "code",
      "metadata": {
        "id": "qDeQ6KLPjxGY",
        "colab_type": "code",
        "colab": {}
      },
      "source": [
        "# 最急降下法（Gradient Descent）\n",
        "\n",
        "def gradientDescent(w0_in, w1_in, data, alpha):\n",
        "  w0_gradient = 0\n",
        "  w1_gradient = 0\n",
        "  m = float(len(data))\n",
        "  for i in range(0, len(data)):\n",
        "    x = data[i, 0]\n",
        "    y = data[i, 1]\n",
        "    hat_y = (w1_in * x) + w0_in\n",
        "    w0_gradient += (hat_y - y)\n",
        "    w1_gradient += (hat_y - y)*x\n",
        "  w0_out = w0_in - alpha * (1/m) * w0_gradient\n",
        "  w1_out = w1_in - alpha * (1/m) * w1_gradient\n",
        "  return [w0_out, w1_out]"
      ],
      "execution_count": 0,
      "outputs": []
    },
    {
      "cell_type": "code",
      "metadata": {
        "id": "0MukKJihlg7c",
        "colab_type": "code",
        "colab": {}
      },
      "source": [
        ""
      ],
      "execution_count": 0,
      "outputs": []
    }
  ]
}