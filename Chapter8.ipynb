{
  "nbformat": 4,
  "nbformat_minor": 0,
  "metadata": {
    "colab": {
      "name": "Chapter8.ipynb",
      "version": "0.3.2",
      "provenance": [],
      "include_colab_link": true
    },
    "kernelspec": {
      "name": "python3",
      "display_name": "Python 3"
    }
  },
  "cells": [
    {
      "cell_type": "markdown",
      "metadata": {
        "id": "view-in-github",
        "colab_type": "text"
      },
      "source": [
        "<a href=\"https://colab.research.google.com/github/naomori/codexa_LinearRegression_Introduction/blob/master/Chapter8.ipynb\" target=\"_parent\"><img src=\"https://colab.research.google.com/assets/colab-badge.svg\" alt=\"Open In Colab\"/></a>"
      ]
    },
    {
      "cell_type": "markdown",
      "metadata": {
        "id": "053tmyaiwjsH",
        "colab_type": "text"
      },
      "source": [
        "# コスト関数\n",
        "\n",
        "$\\hat{y} = w_1x + w_0$\n",
        "\n",
        "- $w_1$ は傾き（slope）\n",
        "- $w_0$ はy切片（Constant/y-intercept）\n",
        "- $w_0, w_1$ を合わせてパラメタという\n",
        "\n"
      ]
    },
    {
      "cell_type": "markdown",
      "metadata": {
        "id": "cjhn5DyvzcmV",
        "colab_type": "text"
      },
      "source": [
        "# モデルのパラメタの求め方\n",
        "\n",
        "* データにフィットする直線を引きたい\n",
        "* どのように直線を求めれば良いのか？\n",
        "* データに対して一番最適な $w_0, w_1$ とは？\n",
        "\n",
        "## 考え方\n",
        "\n",
        "* $\\hat{y}, y$ が各データで一番近くなるような直線\n",
        "* モデルが算出した予測値と実際地の誤差が最小\n",
        "\n",
        "## 残差/コスト（Residuals / Cost）\n",
        "\n",
        "* 残差とは予測値 $\\hat{y}$ と実際値 $y$ の差\n",
        "* 正の残差は予測値が実際値より高い、負の残差は予測値が実際地より低い\n",
        "* すべてのデータポイントで残差を計算して、その合計が参照となるモデルを探したい\n",
        "\n",
        "## コスト関数\n",
        "\n",
        "* 予測値と実際値の差を計算する\n",
        "* コストが最小となるパラメタが最適なモデルと言える\n",
        "\n",
        "$J(w_0, w_1) = \\frac{1}{2m}\\sum_{i=1}^{m}(\\hat{y_i}-y_i)^2$\n",
        "\n",
        "このJは二乗誤差（Squared Error）ともいう。  \n",
        "J が最小となる$w_0, w_1$が最適なモデルとなる。"
      ]
    },
    {
      "cell_type": "code",
      "metadata": {
        "id": "JIqACO35wfWX",
        "colab_type": "code",
        "colab": {}
      },
      "source": [
        ""
      ],
      "execution_count": 0,
      "outputs": []
    }
  ]
}