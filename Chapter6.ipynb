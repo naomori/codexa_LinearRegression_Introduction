{
  "nbformat": 4,
  "nbformat_minor": 0,
  "metadata": {
    "colab": {
      "name": "Chapter6.ipynb",
      "version": "0.3.2",
      "provenance": [],
      "include_colab_link": true
    },
    "kernelspec": {
      "name": "python3",
      "display_name": "Python 3"
    }
  },
  "cells": [
    {
      "cell_type": "markdown",
      "metadata": {
        "id": "view-in-github",
        "colab_type": "text"
      },
      "source": [
        "<a href=\"https://colab.research.google.com/github/naomori/codexa_LinearRegression_Introduction/blob/master/Chapter6.ipynb\" target=\"_parent\"><img src=\"https://colab.research.google.com/assets/colab-badge.svg\" alt=\"Open In Colab\"/></a>"
      ]
    },
    {
      "cell_type": "markdown",
      "metadata": {
        "id": "xdjJ1q0JrPjd",
        "colab_type": "text"
      },
      "source": [
        "# 線形回帰(Linear Regression)の概要\n",
        "\n",
        "複数の変数における相関関係を直線モデルによって説明する分析手法。\n",
        "\n",
        "* 複数の変数\n",
        "  - x: 特徴量、説明変数、独立変数\n",
        "    - ターゲットを説明する変数\n",
        "  - y: ターゲット、目的変数、従属変数\n",
        "    - 予測したい変数\n",
        "\n",
        "* 直線モデル：線形モデル\n",
        "\n",
        "１つの特徴量からターゲットを求める：**単回帰分析**"
      ]
    },
    {
      "cell_type": "markdown",
      "metadata": {
        "id": "wA4u5pzPsZla",
        "colab_type": "text"
      },
      "source": [
        "## 線形回帰\n",
        "\n",
        "以下に例を示す。\n",
        "\n",
        "1. 異なる影響の売上を予測する\n",
        "2. 異なる物件の家賃を予測する\n",
        "\n",
        "\n",
        "複数の特徴量からターゲットを予測する：重回帰分析（Multiple Linear Regression）"
      ]
    },
    {
      "cell_type": "markdown",
      "metadata": {
        "id": "FRo6xEL5tK7R",
        "colab_type": "text"
      },
      "source": [
        "* $\\hat{y} = w_1x + w_0$\n",
        "  * $\\hat{y}$ : ターゲット\n",
        "  * $x$ : 特徴量\n",
        "  * $w_1$ : Weight（重み）, Coefficient（係数）\n",
        "  * $w_0$ : Constant（定数項）, y-intercept（y切片）\n"
      ]
    },
    {
      "cell_type": "markdown",
      "metadata": {
        "id": "hEORqCQGtueU",
        "colab_type": "text"
      },
      "source": [
        ""
      ]
    },
    {
      "cell_type": "code",
      "metadata": {
        "id": "z4bSpPUyrN5W",
        "colab_type": "code",
        "colab": {}
      },
      "source": [
        ""
      ],
      "execution_count": 0,
      "outputs": []
    }
  ]
}