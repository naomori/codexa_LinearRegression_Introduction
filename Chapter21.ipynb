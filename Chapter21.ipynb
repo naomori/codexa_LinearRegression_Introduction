{
  "nbformat": 4,
  "nbformat_minor": 0,
  "metadata": {
    "colab": {
      "name": "Chapter21.ipynb",
      "version": "0.3.2",
      "provenance": [],
      "include_colab_link": true
    },
    "kernelspec": {
      "name": "python3",
      "display_name": "Python 3"
    }
  },
  "cells": [
    {
      "cell_type": "markdown",
      "metadata": {
        "id": "view-in-github",
        "colab_type": "text"
      },
      "source": [
        "<a href=\"https://colab.research.google.com/github/naomori/codexa_LinearRegression_Introduction/blob/master/Chapter21.ipynb\" target=\"_parent\"><img src=\"https://colab.research.google.com/assets/colab-badge.svg\" alt=\"Open In Colab\"/></a>"
      ]
    },
    {
      "cell_type": "markdown",
      "metadata": {
        "id": "8-eBfdJIwbGV",
        "colab_type": "text"
      },
      "source": [
        "# 正規化（Feature Scaling / Normalization）\n",
        "\n",
        "最急降下法がより効率よく最適化ポイントを探すことが出来る\n",
        "\n",
        "#### 特徴量のスケールを調整する\n",
        "特徴量のスケールに差があると、最急降下法によるパラメタ算出に時間（計算回数）がかかってしまう。\n",
        "\n",
        "\n",
        "\n"
      ]
    },
    {
      "cell_type": "markdown",
      "metadata": {
        "id": "p9iEGiUsx-fO",
        "colab_type": "text"
      },
      "source": [
        "## 方法その１：標準化（Z-score normalization）\n",
        "\n",
        "* 平均 = 0\n",
        "* 標準偏差 = 1\n",
        "\n",
        "$x_1 = \\frac{x_1 - x_{mean}}{std}$\n",
        "\n",
        "## 方法その２：min-max normalization\n",
        "\n",
        "* 最大値 = 1\n",
        "* 最小値 = 0\n",
        "\n",
        "$x_1 = \\frac{x_1 - x_{min}}{x_{max} - x_{min}}$"
      ]
    },
    {
      "cell_type": "code",
      "metadata": {
        "id": "3ppX4GLWwZN7",
        "colab_type": "code",
        "colab": {}
      },
      "source": [
        ""
      ],
      "execution_count": 0,
      "outputs": []
    }
  ]
}