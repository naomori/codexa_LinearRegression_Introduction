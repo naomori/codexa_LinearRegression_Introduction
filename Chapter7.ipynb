{
  "nbformat": 4,
  "nbformat_minor": 0,
  "metadata": {
    "colab": {
      "name": "Chapter7.ipynb",
      "version": "0.3.2",
      "provenance": [],
      "include_colab_link": true
    },
    "kernelspec": {
      "name": "python3",
      "display_name": "Python 3"
    }
  },
  "cells": [
    {
      "cell_type": "markdown",
      "metadata": {
        "id": "view-in-github",
        "colab_type": "text"
      },
      "source": [
        "<a href=\"https://colab.research.google.com/github/naomori/codexa_LinearRegression_Introduction/blob/master/Chapter7.ipynb\" target=\"_parent\"><img src=\"https://colab.research.google.com/assets/colab-badge.svg\" alt=\"Open In Colab\"/></a>"
      ]
    },
    {
      "cell_type": "markdown",
      "metadata": {
        "id": "Weo_4CV1u6T9",
        "colab_type": "text"
      },
      "source": [
        "# 線形回帰モデル\n",
        "\n"
      ]
    },
    {
      "cell_type": "markdown",
      "metadata": {
        "id": "UNUR4l_svAca",
        "colab_type": "text"
      },
      "source": [
        "## 例題：勉強時間からテスト点数を予測する\n",
        "\n",
        "全く同じテストを受けた隣の学校のAくんは4時間勉強をしました。  \n",
        "Aくんのテスト結果を予測してみよう。"
      ]
    },
    {
      "cell_type": "markdown",
      "metadata": {
        "id": "YHboOATKvdwi",
        "colab_type": "text"
      },
      "source": [
        "## 訓練データ（教師データ）\n",
        "\n",
        "訓練データを学習することで、データに潜在する特徴を捉え、新しい入力データに対して予測を行う。\n",
        "\n",
        "* 訓練データの数：m\n",
        "* 特徴量：x\n",
        "* 目的変数：y\n",
        "* 予測: $\\hat{y}$\n",
        "\n"
      ]
    },
    {
      "cell_type": "markdown",
      "metadata": {
        "id": "IpBAFH6bv3ga",
        "colab_type": "text"
      },
      "source": [
        ""
      ]
    },
    {
      "cell_type": "code",
      "metadata": {
        "id": "WgyHhrsau3re",
        "colab_type": "code",
        "colab": {}
      },
      "source": [
        ""
      ],
      "execution_count": 0,
      "outputs": []
    }
  ]
}