{
  "nbformat": 4,
  "nbformat_minor": 0,
  "metadata": {
    "colab": {
      "name": "Chapter18.ipynb",
      "version": "0.3.2",
      "provenance": [],
      "include_colab_link": true
    },
    "kernelspec": {
      "name": "python3",
      "display_name": "Python 3"
    }
  },
  "cells": [
    {
      "cell_type": "markdown",
      "metadata": {
        "id": "view-in-github",
        "colab_type": "text"
      },
      "source": [
        "<a href=\"https://colab.research.google.com/github/naomori/codexa_LinearRegression_Introduction/blob/master/Chapter18.ipynb\" target=\"_parent\"><img src=\"https://colab.research.google.com/assets/colab-badge.svg\" alt=\"Open In Colab\"/></a>"
      ]
    },
    {
      "cell_type": "markdown",
      "metadata": {
        "id": "eOmgYhmZmAps",
        "colab_type": "text"
      },
      "source": [
        "# 線形回帰　モデル構築\n",
        "\n"
      ]
    },
    {
      "cell_type": "code",
      "metadata": {
        "id": "56NBNeuwl5tB",
        "colab_type": "code",
        "colab": {}
      },
      "source": [
        "import numpy as np\n",
        "import matplotlib.pyplot as plt"
      ],
      "execution_count": 0,
      "outputs": []
    },
    {
      "cell_type": "code",
      "metadata": {
        "id": "u61eOx3omHha",
        "colab_type": "code",
        "colab": {}
      },
      "source": [
        "data = np.loadtxt(\"007-01/007-01.csv\", delimiter=\",\", skiprows=1)"
      ],
      "execution_count": 0,
      "outputs": []
    },
    {
      "cell_type": "code",
      "metadata": {
        "id": "1kp44KKCmI38",
        "colab_type": "code",
        "colab": {}
      },
      "source": [
        "# 最急降下法（Gradient Descent）\n",
        "\n",
        "def gradientDescent(w0_in, w1_in, data, alpha):\n",
        "  w0_gradient = 0\n",
        "  w1_gradient = 0\n",
        "  m = float(len(data))\n",
        "  for i in range(0, len(data)):\n",
        "    x = data[i, 0]\n",
        "    y = data[i, 1]\n",
        "    hat_y = (w1_in * x) + w0_in\n",
        "    w0_gradient += (hat_y - y)\n",
        "    w1_gradient += (hat_y - y)*x\n",
        "  w0_out = w0_in - alpha * (1/m) * w0_gradient\n",
        "  w1_out = w1_in - alpha * (1/m) * w1_gradient\n",
        "  return [w0_out, w1_out]"
      ],
      "execution_count": 0,
      "outputs": []
    },
    {
      "cell_type": "code",
      "metadata": {
        "id": "-8vbqkxTmKao",
        "colab_type": "code",
        "colab": {}
      },
      "source": [
        "# 学習率とパラメタの初期値、と学習を回す回数\n",
        "alpha = 0.01\n",
        "init_w0 = 0\n",
        "init_w1 = 0\n",
        "iterations = 5000"
      ],
      "execution_count": 0,
      "outputs": []
    },
    {
      "cell_type": "code",
      "metadata": {
        "id": "E4oyu4CcmcnY",
        "colab_type": "code",
        "colab": {}
      },
      "source": [
        "def run(data, init_w0, init_w1, alpha, iterations):\n",
        "  w0 = init_w0\n",
        "  w1 = init_w1\n",
        "  for i in range(iterations):\n",
        "    w0, w1 = gradientDescent(w0, w1, np.array(data), alpha)\n",
        "  return [w0, w1]\n",
        "                        "
      ],
      "execution_count": 0,
      "outputs": []
    },
    {
      "cell_type": "code",
      "metadata": {
        "id": "2ndY2lPXmvEO",
        "colab_type": "code",
        "colab": {
          "base_uri": "https://localhost:8080/",
          "height": 34
        },
        "outputId": "6c74b6ee-9d19-443a-bcce-9ebbd78c0e41"
      },
      "source": [
        "[w0, w1] = run(data, init_w0, init_w1, alpha, iterations)\n",
        "print(w0, w1)"
      ],
      "execution_count": 6,
      "outputs": [
        {
          "output_type": "stream",
          "text": [
            "55.190731858489606 4.806721169523359\n"
          ],
          "name": "stdout"
        }
      ]
    },
    {
      "cell_type": "markdown",
      "metadata": {
        "id": "KJIP5qJIm7Eb",
        "colab_type": "text"
      },
      "source": [
        "$TestScore = 4.81 \\times (StudyTime) + 55.19$"
      ]
    },
    {
      "cell_type": "code",
      "metadata": {
        "id": "gzVidDUOm086",
        "colab_type": "code",
        "colab": {
          "base_uri": "https://localhost:8080/",
          "height": 34
        },
        "outputId": "55bc27db-70cb-46df-ffb3-d1ff2a1a1047"
      },
      "source": [
        "# 3.2時間勉強した生徒の点数の予測\n",
        "predict1 = w1*3.2 + w0\n",
        "print(predict1)"
      ],
      "execution_count": 7,
      "outputs": [
        {
          "output_type": "stream",
          "text": [
            "70.57223960096435\n"
          ],
          "name": "stdout"
        }
      ]
    },
    {
      "cell_type": "code",
      "metadata": {
        "id": "__IEPIdhnQjt",
        "colab_type": "code",
        "colab": {
          "base_uri": "https://localhost:8080/",
          "height": 283
        },
        "outputId": "1e42365c-449b-4348-b28a-43d31fcb8a48"
      },
      "source": [
        "plt.scatter(data[:, 0], data[:, 1], c='r', marker='x', s=100, label='Training')\n",
        "plt.xlabel('Study Hours')\n",
        "plt.ylabel('Test Scores')\n",
        "\n",
        "plt.plot(data[:, 0],data[:, 0] * w1 + w0,'-', label='Linear regression')\n",
        "plt.legend()\n",
        "plt.show()"
      ],
      "execution_count": 8,
      "outputs": [
        {
          "output_type": "display_data",
          "data": {
            "image/png": "[encoded data removed]",
            "text/plain": [
              "<Figure size 432x288 with 1 Axes>"
            ]
          },
          "metadata": {
            "tags": []
          }
        }
      ]
    },
    {
      "cell_type": "code",
      "metadata": {
        "id": "6ai_94kInUkK",
        "colab_type": "code",
        "colab": {}
      },
      "source": [
        ""
      ],
      "execution_count": 0,
      "outputs": []
    }
  ]
}