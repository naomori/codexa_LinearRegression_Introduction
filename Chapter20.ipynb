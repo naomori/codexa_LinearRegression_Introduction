{
  "nbformat": 4,
  "nbformat_minor": 0,
  "metadata": {
    "colab": {
      "name": "Chapter20.ipynb",
      "version": "0.3.2",
      "provenance": [],
      "include_colab_link": true
    },
    "kernelspec": {
      "name": "python3",
      "display_name": "Python 3"
    }
  },
  "cells": [
    {
      "cell_type": "markdown",
      "metadata": {
        "id": "view-in-github",
        "colab_type": "text"
      },
      "source": [
        "<a href=\"https://colab.research.google.com/github/naomori/codexa_LinearRegression_Introduction/blob/master/Chapter20.ipynb\" target=\"_parent\"><img src=\"https://colab.research.google.com/assets/colab-badge.svg\" alt=\"Open In Colab\"/></a>"
      ]
    },
    {
      "cell_type": "markdown",
      "metadata": {
        "id": "fZDlXon-s0k2",
        "colab_type": "text"
      },
      "source": [
        "# コスト関数と最急降下法\n",
        "\n",
        "## 線形回帰モデル\n",
        "\n",
        "#### 重回帰分析(特徴量n個)のモデル式\n",
        "\n",
        "$\\hat{y} = XW = w_1x_1 + w_2x_2 ... w_nx_n + w_0x_0$\n",
        "\n",
        "## コスト関数\n",
        "\n",
        "$J(w_0, w_1) = \\frac{1}{2m}\\sum_{i=1}^{m}(\\hat{y_i}-y_i)^2$\n",
        "\n",
        "これは単回帰モデルなので、これを重回帰モデルにする\n",
        "\n",
        "$J(W) = \\frac{1}{2m}\\sum_{i=1}^{m}(\\hat{y_i}-y_i)^2$\n",
        "\n",
        "重回帰モデルのコスト関数をベクトル化する\n",
        "\n",
        "$J(W) = \\frac{1}{2m}(XW-y)^{T}(XW-y)$\n",
        "\n",
        "## 最急降下法\n",
        "\n",
        "$w_0 := w_0 - \\alpha\\frac{1}{m}\\sum_{i=1}^{m}(\\hat{y}-y_i)$\n",
        "\n",
        "$w_1 := w_1 - \\alpha\\frac{1}{m}\\sum_{i=1}^{m}(\\hat{y}-y_i)x_i$\n",
        "\n",
        "\n",
        "\n"
      ]
    },
    {
      "cell_type": "markdown",
      "metadata": {
        "id": "M518pbObvfmF",
        "colab_type": "text"
      },
      "source": [
        "これを重回帰モデルでベクトル化する\n",
        "\n",
        "$W := W - \\alpha\\frac{1}{m}X^T(XW-y)$\n",
        "\n"
      ]
    },
    {
      "cell_type": "code",
      "metadata": {
        "id": "WQe32YAusxui",
        "colab_type": "code",
        "colab": {}
      },
      "source": [
        ""
      ],
      "execution_count": 0,
      "outputs": []
    }
  ]
}