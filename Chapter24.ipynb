{
  "nbformat": 4,
  "nbformat_minor": 0,
  "metadata": {
    "colab": {
      "name": "Chapter24.ipynb",
      "version": "0.3.2",
      "provenance": [],
      "include_colab_link": true
    },
    "kernelspec": {
      "name": "python3",
      "display_name": "Python 3"
    }
  },
  "cells": [
    {
      "cell_type": "markdown",
      "metadata": {
        "id": "view-in-github",
        "colab_type": "text"
      },
      "source": [
        "<a href=\"https://colab.research.google.com/github/naomori/codexa_LinearRegression_Introduction/blob/master/Chapter24.ipynb\" target=\"_parent\"><img src=\"https://colab.research.google.com/assets/colab-badge.svg\" alt=\"Open In Colab\"/></a>"
      ]
    },
    {
      "cell_type": "markdown",
      "metadata": {
        "id": "tcRgkZa6dMbx",
        "colab_type": "text"
      },
      "source": [
        "# 重回帰分析のコスト関数\n"
      ]
    },
    {
      "cell_type": "code",
      "metadata": {
        "id": "B1TOU1vKdH6e",
        "colab_type": "code",
        "colab": {}
      },
      "source": [
        "import numpy as np\n",
        "import matplotlib.pyplot as plt\n",
        "from mpl_toolkits.mplot3d import Axes3D"
      ],
      "execution_count": 0,
      "outputs": []
    },
    {
      "cell_type": "code",
      "metadata": {
        "id": "oirLNE3lfOED",
        "colab_type": "code",
        "colab": {}
      },
      "source": [
        "# csvファイルの読み込み\n",
        "data = np.loadtxt('007-02/007-02.csv', delimiter=',', skiprows=1)\n",
        "X = data[:, :3]\n",
        "y = data[:, 3]\n",
        "m = len(y)"
      ],
      "execution_count": 0,
      "outputs": []
    },
    {
      "cell_type": "code",
      "metadata": {
        "id": "BkdTCGuxfQXw",
        "colab_type": "code",
        "colab": {}
      },
      "source": [
        "# 正規化(Z-score normalization)\n",
        "\n",
        "def norm(X):\n",
        "  X_norm = np.zeros(X.shape)\n",
        "  mean = np.zeros((1,X.shape[1]))\n",
        "  std  = np.zeros((1,X.shape[1]))\n",
        "  for i in range(X.shape[1]):\n",
        "    mean[:, i] = np.mean(X[:, i])\n",
        "    std[:, i] = np.std(X[:, i])\n",
        "    X_norm[:, i] = (X[:, i] - float(mean[:, i]))/float(std[:, i])\n",
        "  return X_norm, mean, std"
      ],
      "execution_count": 0,
      "outputs": []
    },
    {
      "cell_type": "code",
      "metadata": {
        "id": "rTRcKRhTfUE7",
        "colab_type": "code",
        "colab": {}
      },
      "source": [
        "X_norm, mean, std = norm(X)"
      ],
      "execution_count": 0,
      "outputs": []
    },
    {
      "cell_type": "markdown",
      "metadata": {
        "id": "zzS_CBbSdnMI",
        "colab_type": "text"
      },
      "source": [
        "$\\hat{y} = XW = w_1x_1 + w_2x_2 ... w_nx_n + w_0x_0$\n",
        "\n",
        "n = 3\n",
        "\n",
        "$X = \\begin{pmatrix}\n",
        "x_0^{(1)} & x_1^{(1)} & x_2^{(1)} &x_3^{(1)} \\\\\n",
        "x_0^{(2)} & x_1^{(2)} & x_2^{(2)} &x_3^{(2)} \\\\\n",
        "x_0^{(3)} & x_1^{(3)} & x_2^{(3)} &x_3^{(3)} \\\\\n",
        "x_0^{(4)} & x_1^{(4)} & x_2^{(4)} &x_3^{(4)}\n",
        "\\end{pmatrix}$\n",
        "\n",
        "$W = \\begin{pmatrix}\n",
        "w_0 \\\\\n",
        "w_1 \\\\\n",
        "w_2 \\\\\n",
        "w_3 \\end{pmatrix}$\n",
        "\n",
        "$\\begin{pmatrix}\n",
        "\\hat{y}^{(1)} \\\\\n",
        "\\hat{y}^{(2)} \\\\\n",
        "\\hat{y}^{(3)} \\\\\n",
        "\\hat{y}^{(4)}\n",
        "\\end{pmatrix}$"
      ]
    },
    {
      "cell_type": "markdown",
      "metadata": {
        "id": "RCXvZfRmf7Xh",
        "colab_type": "text"
      },
      "source": [
        "## まずは正規化する"
      ]
    },
    {
      "cell_type": "code",
      "metadata": {
        "id": "VuDifPHfdQ_M",
        "colab_type": "code",
        "colab": {
          "base_uri": "https://localhost:8080/",
          "height": 86
        },
        "outputId": "f97362f4-816e-4f34-ebdb-a4d51890e7b1"
      },
      "source": [
        "# モデル式のパラメタ初期値\n",
        "weight_init = np.zeros((4,1))\n",
        "print(weight_init)"
      ],
      "execution_count": 59,
      "outputs": [
        {
          "output_type": "stream",
          "text": [
            "[[0.]\n",
            " [0.]\n",
            " [0.]\n",
            " [0.]]\n"
          ],
          "name": "stdout"
        }
      ]
    },
    {
      "cell_type": "code",
      "metadata": {
        "id": "jJ7905IxejTg",
        "colab_type": "code",
        "colab": {
          "base_uri": "https://localhost:8080/",
          "height": 34
        },
        "outputId": "d8f8b063-3720-47cc-d9e4-1d924fd1c5e3"
      },
      "source": [
        "# 特徴量の前処理\n",
        "X_padded = np.column_stack((np.ones((m,1)), X_norm))\n",
        "X_padded.shape"
      ],
      "execution_count": 60,
      "outputs": [
        {
          "output_type": "execute_result",
          "data": {
            "text/plain": [
              "(99, 4)"
            ]
          },
          "metadata": {
            "tags": []
          },
          "execution_count": 60
        }
      ]
    },
    {
      "cell_type": "code",
      "metadata": {
        "id": "gncBdaxke0wU",
        "colab_type": "code",
        "colab": {
          "base_uri": "https://localhost:8080/",
          "height": 191
        },
        "outputId": "e1ab732f-0d5d-4146-96b1-87d3938695fc"
      },
      "source": [
        "X_padded[0:10, :]"
      ],
      "execution_count": 61,
      "outputs": [
        {
          "output_type": "execute_result",
          "data": {
            "text/plain": [
              "array([[ 1.        , -1.28095057, -0.76202794, -0.45626449],\n",
              "       [ 1.        , -0.10238081, -0.05223579, -1.002678  ],\n",
              "       [ 1.        , -1.75237847, -1.57321897, -1.73122936],\n",
              "       [ 1.        ,  1.07618895,  1.36734852,  1.36511391],\n",
              "       [ 1.        ,  0.60476105,  1.36734852,  0.36335579],\n",
              "       [ 1.        ,  0.01547617, -0.66062906, -0.54733341],\n",
              "       [ 1.        , -1.04523661, -1.57321897, -1.73122936],\n",
              "       [ 1.        ,  0.25119012, -0.35643242, -0.72947124],\n",
              "       [ 1.        , -0.57380871, -0.35643242, -1.27588476],\n",
              "       [ 1.        ,  1.66547383,  0.96175301,  0.54549363]])"
            ]
          },
          "metadata": {
            "tags": []
          },
          "execution_count": 61
        }
      ]
    },
    {
      "cell_type": "markdown",
      "metadata": {
        "id": "cRmD4PhYf9Xj",
        "colab_type": "text"
      },
      "source": [
        "## コスト関数"
      ]
    },
    {
      "cell_type": "code",
      "metadata": {
        "id": "Jrsa7T7Rfxtm",
        "colab_type": "code",
        "colab": {}
      },
      "source": [
        "# コスト関数\n",
        "\n",
        "def cost(X, y, weight):\n",
        "  m = len(y)\n",
        "  J = 0\n",
        "  y_hat = X.dot(weight)\n",
        "  diff = np.power((y_hat - np.transpose([y])), 2)\n",
        "  J = (1.0/(2*m)) * diff.sum(axis=0)\n",
        "  return J"
      ],
      "execution_count": 0,
      "outputs": []
    },
    {
      "cell_type": "code",
      "metadata": {
        "id": "_nerKiMfglEj",
        "colab_type": "code",
        "colab": {
          "base_uri": "https://localhost:8080/",
          "height": 34
        },
        "outputId": "9677b83a-ed64-4bfb-8f6e-2a249d687d22"
      },
      "source": [
        "# コスト関数の確認\n",
        "\n",
        "weight_test = np.array([[20], [10], [5], [-1]])\n",
        "cost(X_padded, y, weight_test)"
      ],
      "execution_count": 63,
      "outputs": [
        {
          "output_type": "execute_result",
          "data": {
            "text/plain": [
              "array([1541.34609465])"
            ]
          },
          "metadata": {
            "tags": []
          },
          "execution_count": 63
        }
      ]
    },
    {
      "cell_type": "markdown",
      "metadata": {
        "id": "9kxhAtTpoRf1",
        "colab_type": "text"
      },
      "source": [
        "コスト関数を行列を使って計算してみる\n",
        "\n",
        "$J(W) = \\frac{1}{2m}(XW-y)^{T}(XW-y)$"
      ]
    },
    {
      "cell_type": "code",
      "metadata": {
        "id": "Ht3pTcHsg6yk",
        "colab_type": "code",
        "colab": {}
      },
      "source": [
        "def cost_2(X, y, weight):\n",
        "  m = len(y)\n",
        "  J = 0\n",
        "  y_shaped = y.reshape(len(y), 1)\n",
        "  model = np.dot(X, weight)\n",
        "  delta = np.dot((model - y_shaped).T, (model - y_shaped))\n",
        "  J = delta / (m * 2)\n",
        "  return J"
      ],
      "execution_count": 0,
      "outputs": []
    },
    {
      "cell_type": "code",
      "metadata": {
        "id": "1XTQdgOvpAvb",
        "colab_type": "code",
        "colab": {
          "base_uri": "https://localhost:8080/",
          "height": 34
        },
        "outputId": "894ba837-de7e-43af-ecf6-1f2c820f3587"
      },
      "source": [
        "cost_2(X_padded, y, weight_test)"
      ],
      "execution_count": 67,
      "outputs": [
        {
          "output_type": "execute_result",
          "data": {
            "text/plain": [
              "array([[1541.34609465]])"
            ]
          },
          "metadata": {
            "tags": []
          },
          "execution_count": 67
        }
      ]
    },
    {
      "cell_type": "code",
      "metadata": {
        "id": "6bQfV-hVpD59",
        "colab_type": "code",
        "colab": {}
      },
      "source": [
        ""
      ],
      "execution_count": 0,
      "outputs": []
    }
  ]
}