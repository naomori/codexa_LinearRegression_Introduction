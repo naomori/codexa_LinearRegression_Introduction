{
  "nbformat": 4,
  "nbformat_minor": 0,
  "metadata": {
    "colab": {
      "name": "Chapter26.ipynb",
      "version": "0.3.2",
      "provenance": [],
      "include_colab_link": true
    },
    "kernelspec": {
      "name": "python3",
      "display_name": "Python 3"
    }
  },
  "cells": [
    {
      "cell_type": "markdown",
      "metadata": {
        "id": "view-in-github",
        "colab_type": "text"
      },
      "source": [
        "<a href=\"https://colab.research.google.com/github/naomori/codexa_LinearRegression_Introduction/blob/master/Chapter26.ipynb\" target=\"_parent\"><img src=\"https://colab.research.google.com/assets/colab-badge.svg\" alt=\"Open In Colab\"/></a>"
      ]
    },
    {
      "cell_type": "markdown",
      "metadata": {
        "id": "KZh42yK124b0",
        "colab_type": "text"
      },
      "source": [
        "# モデルを使って予測"
      ]
    },
    {
      "cell_type": "code",
      "metadata": {
        "id": "coaLGFjy22jz",
        "colab_type": "code",
        "colab": {}
      },
      "source": [
        "import numpy as np\n",
        "import matplotlib.pyplot as plt\n",
        "from mpl_toolkits.mplot3d import Axes3D"
      ],
      "execution_count": 0,
      "outputs": []
    },
    {
      "cell_type": "code",
      "metadata": {
        "id": "-W2ljup33EiL",
        "colab_type": "code",
        "colab": {}
      },
      "source": [
        "# csvファイルの読み込み\n",
        "data = np.loadtxt('007-02/007-02.csv', delimiter=',', skiprows=1)\n",
        "X = data[:, :3]\n",
        "y = data[:, 3]\n",
        "m = len(y)"
      ],
      "execution_count": 0,
      "outputs": []
    },
    {
      "cell_type": "code",
      "metadata": {
        "id": "eMiSdz3_3Fwe",
        "colab_type": "code",
        "colab": {}
      },
      "source": [
        "# 正規化(Z-score normalization)\n",
        "\n",
        "def norm(X):\n",
        "  X_norm = np.zeros(X.shape)\n",
        "  mean = np.zeros((1,X.shape[1]))\n",
        "  std  = np.zeros((1,X.shape[1]))\n",
        "  for i in range(X.shape[1]):\n",
        "    mean[:, i] = np.mean(X[:, i])\n",
        "    std[:, i] = np.std(X[:, i])\n",
        "    X_norm[:, i] = (X[:, i] - float(mean[:, i]))/float(std[:, i])\n",
        "  return X_norm, mean, std"
      ],
      "execution_count": 0,
      "outputs": []
    },
    {
      "cell_type": "code",
      "metadata": {
        "id": "QYOCqbbF3G3x",
        "colab_type": "code",
        "colab": {}
      },
      "source": [
        "# コスト関数\n",
        "\n",
        "def cost(X, y, weight):\n",
        "  m = len(y)\n",
        "  J = 0\n",
        "  y_shaped = y.reshape(len(y), 1)\n",
        "  model = np.dot(X, weight)\n",
        "  delta = np.dot((model - y_shaped).T, (model - y_shaped))\n",
        "  J = delta / (m * 2)\n",
        "  return J"
      ],
      "execution_count": 0,
      "outputs": []
    },
    {
      "cell_type": "code",
      "metadata": {
        "id": "ttm2YzWw3IMe",
        "colab_type": "code",
        "colab": {}
      },
      "source": [
        "# 学習率と学習回数（イテレーション）\n",
        "alpha = 0.01\n",
        "num_iters = 500"
      ],
      "execution_count": 0,
      "outputs": []
    },
    {
      "cell_type": "code",
      "metadata": {
        "id": "Jg2kl6cT3Jjk",
        "colab_type": "code",
        "colab": {}
      },
      "source": [
        "# 最急降下法(Gradient Descent)\n",
        "def gradientDescent(X, y, weight, alpha, iterations):\n",
        "  m = len(y)\n",
        "  # コスト関数の履歴を記録する(必要はないが後で見てみる)\n",
        "  J_history = np.zeros((iterations, 1))\n",
        "  \n",
        "  for i in range(iterations):\n",
        "    weight -= alpha * (1.0/m) * np.transpose(X).dot(X.dot(weight) - np.transpose([y]))\n",
        "    J_history[i] = cost(X, y, weight)\n",
        "  return weight, J_history"
      ],
      "execution_count": 0,
      "outputs": []
    },
    {
      "cell_type": "code",
      "metadata": {
        "id": "Xj_oSzq73K6i",
        "colab_type": "code",
        "colab": {}
      },
      "source": [
        "# モデル式のパラメタ初期値\n",
        "weight_init = np.zeros((4,1))"
      ],
      "execution_count": 0,
      "outputs": []
    },
    {
      "cell_type": "code",
      "metadata": {
        "id": "Cey_X2Sq3MG6",
        "colab_type": "code",
        "colab": {}
      },
      "source": [
        "X_norm, mean, std = norm(X)\n",
        "X_padded = np.column_stack((np.ones((m,1)), X_norm))"
      ],
      "execution_count": 0,
      "outputs": []
    },
    {
      "cell_type": "code",
      "metadata": {
        "id": "DjpLtKOy3NKD",
        "colab_type": "code",
        "colab": {}
      },
      "source": [
        "weight, J_history = gradientDescent(X_padded, y, weight_init, alpha, num_iters)"
      ],
      "execution_count": 0,
      "outputs": []
    },
    {
      "cell_type": "code",
      "metadata": {
        "id": "S1Xx0Z3e3OaE",
        "colab_type": "code",
        "colab": {
          "base_uri": "https://localhost:8080/",
          "height": 283
        },
        "outputId": "37912203-d797-4e2f-a367-9a07c48585e9"
      },
      "source": [
        "plt.plot(range(J_history.size), J_history, \"-b\", linewidth=1)\n",
        "plt.xlabel('Number of iterations')\n",
        "plt.ylabel('Cost J')\n",
        "plt.grid(True)\n",
        "plt.show()"
      ],
      "execution_count": 11,
      "outputs": [
        {
          "output_type": "display_data",
          "data": {
            "image/png": "[encoded data removed]",
            "text/plain": [
              "<Figure size 432x288 with 1 Axes>"
            ]
          },
          "metadata": {
            "tags": []
          }
        }
      ]
    },
    {
      "cell_type": "markdown",
      "metadata": {
        "id": "HTsBEfEJ3ljE",
        "colab_type": "text"
      },
      "source": [
        "最急降下法の計算のたびに、コストが下がっていることがわかる"
      ]
    },
    {
      "cell_type": "markdown",
      "metadata": {
        "id": "63Y1Iwyg33Gj",
        "colab_type": "text"
      },
      "source": [
        "重みは以下の変数（weight）に w0, w1, w2, w3 の順番に格納されている"
      ]
    },
    {
      "cell_type": "code",
      "metadata": {
        "id": "mVvFf2Ql3e-r",
        "colab_type": "code",
        "colab": {
          "base_uri": "https://localhost:8080/",
          "height": 86
        },
        "outputId": "ba63ac45-ef5b-4f13-c7db-c6639570a8d7"
      },
      "source": [
        "print(weight)"
      ],
      "execution_count": 13,
      "outputs": [
        {
          "output_type": "stream",
          "text": [
            "[[74.57745626]\n",
            " [ 2.22894853]\n",
            " [ 5.45280885]\n",
            " [ 3.22092053]]\n"
          ],
          "name": "stdout"
        }
      ]
    },
    {
      "cell_type": "markdown",
      "metadata": {
        "id": "ldmDIJcp4D5W",
        "colab_type": "text"
      },
      "source": [
        "$\\hat{y} = 2.229\\times Physics_{norm} + 5.453 \\times Science_{norm} + 3.220 \\times Statistics_{norm} + 74.577$"
      ]
    },
    {
      "cell_type": "code",
      "metadata": {
        "id": "K7dx3PjM30lk",
        "colab_type": "code",
        "colab": {}
      },
      "source": [
        "# こでくさくん = Physics 76, Science 96, Statistics 82 のときの\n",
        "# Math の点数を予測する\n",
        "\n",
        "# 数式の norm は各点数に対して正規化を施していることを示している\n",
        "\n",
        "physics_norm = (76 - float(mean[:, 0]))/float(std[:,0])\n",
        "science_norm = (96 - float(mean[:, 1]))/float(std[:,1])\n",
        "statistics_norm = (82 - float(mean[:, 2]))/float(std[:,2])"
      ],
      "execution_count": 0,
      "outputs": []
    },
    {
      "cell_type": "code",
      "metadata": {
        "id": "Dj_4RyYA5IIl",
        "colab_type": "code",
        "colab": {
          "base_uri": "https://localhost:8080/",
          "height": 34
        },
        "outputId": "aa2513a8-589b-4173-9eb7-a2b2010a8327"
      },
      "source": [
        "# x_0 を追加する\n",
        "pred_padded = np.array([1, physics_norm, science_norm, statistics_norm])\n",
        "print(pred_padded)"
      ],
      "execution_count": 18,
      "outputs": [
        {
          "output_type": "stream",
          "text": [
            "[1.         0.13333314 2.17853956 0.72763147]\n"
          ],
          "name": "stdout"
        }
      ]
    },
    {
      "cell_type": "code",
      "metadata": {
        "id": "IfZeYpxb5kMM",
        "colab_type": "code",
        "colab": {}
      },
      "source": [
        "# こでくさくんの Math の点数を予測する\n",
        "pred = pred_padded.dot(weight)"
      ],
      "execution_count": 0,
      "outputs": []
    },
    {
      "cell_type": "code",
      "metadata": {
        "id": "InVs3Gjt5z46",
        "colab_type": "code",
        "colab": {
          "base_uri": "https://localhost:8080/",
          "height": 34
        },
        "outputId": "8382fc47-c58a-40b6-bc47-425acdb3bb72"
      },
      "source": [
        "print(pred)"
      ],
      "execution_count": 20,
      "outputs": [
        {
          "output_type": "stream",
          "text": [
            "[89.09745188]\n"
          ],
          "name": "stdout"
        }
      ]
    },
    {
      "cell_type": "code",
      "metadata": {
        "id": "m1OMt7vo54Ih",
        "colab_type": "code",
        "colab": {}
      },
      "source": [
        ""
      ],
      "execution_count": 0,
      "outputs": []
    }
  ]
}