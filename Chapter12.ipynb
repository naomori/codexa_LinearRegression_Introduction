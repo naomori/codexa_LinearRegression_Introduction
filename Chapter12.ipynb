{
  "nbformat": 4,
  "nbformat_minor": 0,
  "metadata": {
    "colab": {
      "name": "Chapter12.ipynb",
      "version": "0.3.2",
      "provenance": [],
      "include_colab_link": true
    },
    "kernelspec": {
      "name": "python3",
      "display_name": "Python 3"
    }
  },
  "cells": [
    {
      "cell_type": "markdown",
      "metadata": {
        "id": "view-in-github",
        "colab_type": "text"
      },
      "source": [
        "<a href=\"https://colab.research.google.com/github/naomori/codexa_LinearRegression_Introduction/blob/master/Chapter12.ipynb\" target=\"_parent\"><img src=\"https://colab.research.google.com/assets/colab-badge.svg\" alt=\"Open In Colab\"/></a>"
      ]
    },
    {
      "cell_type": "markdown",
      "metadata": {
        "id": "kDrEUqCJi34v",
        "colab_type": "text"
      },
      "source": [
        "# 偏微分と学習率\n",
        "\n",
        "\n",
        "$\\hat{y} = w_{1}x + w_{0}$\n",
        "\n",
        "$J(w_0, w_1) = \\frac{1}{2m}\\sum_{i=1}^{m}(\\hat{y_i}-y_i)^2$\n",
        "\n",
        "$w_0 := w_0 - \\alpha\\frac{\\partial}{\\partial w_0}J(w_0, w_1)$\n",
        "\n",
        "$w_1 := w_1 - \\alpha\\frac{\\partial}{\\partial w_1}J(w_0, w_1)$"
      ]
    },
    {
      "cell_type": "markdown",
      "metadata": {
        "id": "Iwkr7fXpjQQl",
        "colab_type": "text"
      },
      "source": [
        "## 偏微分（＝傾き）\n",
        "\n",
        "パラメタを正しい方向で更新します。"
      ]
    },
    {
      "cell_type": "markdown",
      "metadata": {
        "id": "XuuX5cXzknAb",
        "colab_type": "text"
      },
      "source": [
        "## 学習率α（Learning Rate）の理解\n",
        "\n"
      ]
    },
    {
      "cell_type": "markdown",
      "metadata": {
        "id": "dwFIFgpnlH7R",
        "colab_type": "text"
      },
      "source": [
        "学習率は正の値を持ち、パラメタの一回あたりの更新の大きさを決めます。   \n",
        "学習率が大き過ぎると、最適値にたどり着かない可能性があります。"
      ]
    },
    {
      "cell_type": "code",
      "metadata": {
        "id": "Bbp14EKDi0Yn",
        "colab_type": "code",
        "colab": {}
      },
      "source": [
        ""
      ],
      "execution_count": 0,
      "outputs": []
    }
  ]
}