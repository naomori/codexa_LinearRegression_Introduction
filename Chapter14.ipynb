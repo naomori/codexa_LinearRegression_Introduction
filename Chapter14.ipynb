{
  "nbformat": 4,
  "nbformat_minor": 0,
  "metadata": {
    "colab": {
      "name": "Chapter14.ipynb",
      "version": "0.3.2",
      "provenance": [],
      "include_colab_link": true
    },
    "kernelspec": {
      "name": "python3",
      "display_name": "Python 3"
    }
  },
  "cells": [
    {
      "cell_type": "markdown",
      "metadata": {
        "id": "view-in-github",
        "colab_type": "text"
      },
      "source": [
        "<a href=\"https://colab.research.google.com/github/naomori/codexa_LinearRegression_Introduction/blob/master/Chapter14.ipynb\" target=\"_parent\"><img src=\"https://colab.research.google.com/assets/colab-badge.svg\" alt=\"Open In Colab\"/></a>"
      ]
    },
    {
      "cell_type": "markdown",
      "metadata": {
        "id": "SQrLaKbCaaAO",
        "colab_type": "text"
      },
      "source": [
        "# プログラミング実習（単回帰分析）\n",
        "\n",
        "## 線形回帰問題\n",
        "* 特徴量が１つの単回帰\n",
        "* Supervised Learning\n",
        "\n",
        "## 問題\n",
        "* 生徒の勉強時間からテストの点数を予測\n",
        "* x=勉強時間, y=テスト点数"
      ]
    },
    {
      "cell_type": "code",
      "metadata": {
        "id": "914GtX2MaYRC",
        "colab_type": "code",
        "colab": {
          "base_uri": "https://localhost:8080/",
          "height": 333
        },
        "outputId": "d4283d2e-2d5f-44a6-c365-b68be531df1f"
      },
      "source": [
        "!wget https://www.codexa.net/wp-content/uploads/2018/05/007-01.zip\n",
        "!unzip 007-01.zip"
      ],
      "execution_count": 1,
      "outputs": [
        {
          "output_type": "stream",
          "text": [
            "--2019-07-30 01:08:57--  https://www.codexa.net/wp-content/uploads/2018/05/007-01.zip\n",
            "Resolving www.codexa.net (www.codexa.net)... 54.64.62.39, 13.115.61.79\n",
            "Connecting to www.codexa.net (www.codexa.net)|54.64.62.39|:443... connected.\n",
            "HTTP request sent, awaiting response... 200 OK\n",
            "Length: 1039 (1.0K) [application/zip]\n",
            "Saving to: ‘007-01.zip’\n",
            "\n",
            "\r007-01.zip            0%[                    ]       0  --.-KB/s               \r007-01.zip          100%[===================>]   1.01K  --.-KB/s    in 0s      \n",
            "\n",
            "2019-07-30 01:08:57 (105 MB/s) - ‘007-01.zip’ saved [1039/1039]\n",
            "\n",
            "Archive:  007-01.zip\n",
            "   creating: 007-01/\n",
            "  inflating: 007-01/007-01.csv       \n",
            "   creating: __MACOSX/\n",
            "   creating: __MACOSX/007-01/\n",
            "  inflating: __MACOSX/007-01/._007-01.csv  \n"
          ],
          "name": "stdout"
        }
      ]
    },
    {
      "cell_type": "code",
      "metadata": {
        "id": "DCfOdF3ObDZP",
        "colab_type": "code",
        "colab": {
          "base_uri": "https://localhost:8080/",
          "height": 34
        },
        "outputId": "af18c4e4-d29e-44b0-f23c-e4953705c2d1"
      },
      "source": [
        "!ls"
      ],
      "execution_count": 2,
      "outputs": [
        {
          "output_type": "stream",
          "text": [
            "007-01\t007-01.zip  __MACOSX  sample_data\n"
          ],
          "name": "stdout"
        }
      ]
    },
    {
      "cell_type": "code",
      "metadata": {
        "id": "oH9cIHu8beD_",
        "colab_type": "code",
        "colab": {}
      },
      "source": [
        "import numpy as np"
      ],
      "execution_count": 0,
      "outputs": []
    },
    {
      "cell_type": "code",
      "metadata": {
        "id": "BYwEOJT6bvtD",
        "colab_type": "code",
        "colab": {
          "base_uri": "https://localhost:8080/",
          "height": 52
        },
        "outputId": "cdf2c30d-8747-4b17-a1ba-e36d1d51eb9a"
      },
      "source": [
        "a = np.array([1,2,3])\n",
        "print(a)\n",
        "b = np.array([4,5,6])\n",
        "print(b)"
      ],
      "execution_count": 7,
      "outputs": [
        {
          "output_type": "stream",
          "text": [
            "[1 2 3]\n",
            "[4 5 6]\n"
          ],
          "name": "stdout"
        }
      ]
    },
    {
      "cell_type": "code",
      "metadata": {
        "id": "cVjwG2SKb0xX",
        "colab_type": "code",
        "colab": {
          "base_uri": "https://localhost:8080/",
          "height": 34
        },
        "outputId": "02c4369c-b1dd-4519-b905-8d2d452e6c5b"
      },
      "source": [
        "np.dot(a,b)"
      ],
      "execution_count": 8,
      "outputs": [
        {
          "output_type": "execute_result",
          "data": {
            "text/plain": [
              "32"
            ]
          },
          "metadata": {
            "tags": []
          },
          "execution_count": 8
        }
      ]
    },
    {
      "cell_type": "code",
      "metadata": {
        "id": "de4V5Jw-b2SD",
        "colab_type": "code",
        "colab": {}
      },
      "source": [
        ""
      ],
      "execution_count": 0,
      "outputs": []
    }
  ]
}