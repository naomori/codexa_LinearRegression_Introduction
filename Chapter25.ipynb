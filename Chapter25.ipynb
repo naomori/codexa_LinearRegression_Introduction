{
  "nbformat": 4,
  "nbformat_minor": 0,
  "metadata": {
    "colab": {
      "name": "Chapter25.ipynb",
      "version": "0.3.2",
      "provenance": [],
      "include_colab_link": true
    },
    "kernelspec": {
      "name": "python3",
      "display_name": "Python 3"
    }
  },
  "cells": [
    {
      "cell_type": "markdown",
      "metadata": {
        "id": "view-in-github",
        "colab_type": "text"
      },
      "source": [
        "<a href=\"https://colab.research.google.com/github/naomori/codexa_LinearRegression_Introduction/blob/master/Chapter25.ipynb\" target=\"_parent\"><img src=\"https://colab.research.google.com/assets/colab-badge.svg\" alt=\"Open In Colab\"/></a>"
      ]
    },
    {
      "cell_type": "markdown",
      "metadata": {
        "id": "VqXdG2fHy75P",
        "colab_type": "text"
      },
      "source": [
        "# 重回帰分析の最急降下法（Gradient Descent）\n",
        "\n",
        "$\\hat{y} = XW = w_1x_1 + w_2x_2 ... w_nx_n + w_0x_0$\n",
        "\n",
        "* X: 特徴量の行列\n",
        "* W: パラメタの列ベクトル"
      ]
    },
    {
      "cell_type": "markdown",
      "metadata": {
        "id": "26PH0Y0_zV81",
        "colab_type": "text"
      },
      "source": [
        "$W := W - \\alpha\\frac{1}{m}X^T(XW-y)$\n",
        "\n",
        "* α: 学習率（大きすぎても小さすぎても駄目）\n",
        "* m: データセットのサイズ\n",
        "* X: 特徴量の行列"
      ]
    },
    {
      "cell_type": "code",
      "metadata": {
        "id": "q5trZG1MpYI0",
        "colab_type": "code",
        "colab": {}
      },
      "source": [
        "import numpy as np\n",
        "import matplotlib.pyplot as plt\n",
        "from mpl_toolkits.mplot3d import Axes3D"
      ],
      "execution_count": 0,
      "outputs": []
    },
    {
      "cell_type": "code",
      "metadata": {
        "id": "Jsb6U3rR0Q3u",
        "colab_type": "code",
        "colab": {}
      },
      "source": [
        "# csvファイルの読み込み\n",
        "data = np.loadtxt('007-02/007-02.csv', delimiter=',', skiprows=1)\n",
        "X = data[:, :3]\n",
        "y = data[:, 3]\n",
        "m = len(y)"
      ],
      "execution_count": 0,
      "outputs": []
    },
    {
      "cell_type": "code",
      "metadata": {
        "id": "cNVsSy8-13BP",
        "colab_type": "code",
        "colab": {}
      },
      "source": [
        "# 正規化(Z-score normalization)\n",
        "\n",
        "def norm(X):\n",
        "  X_norm = np.zeros(X.shape)\n",
        "  mean = np.zeros((1,X.shape[1]))\n",
        "  std  = np.zeros((1,X.shape[1]))\n",
        "  for i in range(X.shape[1]):\n",
        "    mean[:, i] = np.mean(X[:, i])\n",
        "    std[:, i] = np.std(X[:, i])\n",
        "    X_norm[:, i] = (X[:, i] - float(mean[:, i]))/float(std[:, i])\n",
        "  return X_norm, mean, std"
      ],
      "execution_count": 0,
      "outputs": []
    },
    {
      "cell_type": "code",
      "metadata": {
        "id": "-_5c0F2i1X33",
        "colab_type": "code",
        "colab": {}
      },
      "source": [
        "# コスト関数\n",
        "\n",
        "def cost(X, y, weight):\n",
        "  m = len(y)\n",
        "  J = 0\n",
        "  y_shaped = y.reshape(len(y), 1)\n",
        "  model = np.dot(X, weight)\n",
        "  delta = np.dot((model - y_shaped).T, (model - y_shaped))\n",
        "  J = delta / (m * 2)\n",
        "  return J"
      ],
      "execution_count": 0,
      "outputs": []
    },
    {
      "cell_type": "code",
      "metadata": {
        "id": "9d0q54rWz6c9",
        "colab_type": "code",
        "colab": {}
      },
      "source": [
        "# 学習率と学習回数（イテレーション）\n",
        "alpha = 0.01\n",
        "num_iters = 500"
      ],
      "execution_count": 0,
      "outputs": []
    },
    {
      "cell_type": "code",
      "metadata": {
        "id": "gNstIKKn0A0u",
        "colab_type": "code",
        "colab": {}
      },
      "source": [
        "# 最急降下法(Gradient Descent)\n",
        "def gradientDescent(X, y, weight, alpha, iterations):\n",
        "  m = len(y)\n",
        "  # コスト関数の履歴を記録する(必要はないが後で見てみる)\n",
        "  J_history = np.zeros((iterations, 1))\n",
        "  \n",
        "  for i in range(iterations):\n",
        "    weight -= alpha * (1.0/m) * np.transpose(X).dot(X.dot(weight) - np.transpose([y]))\n",
        "    J_history[i] = cost(X, y, weight)\n",
        "  return weight, J_history"
      ],
      "execution_count": 0,
      "outputs": []
    },
    {
      "cell_type": "code",
      "metadata": {
        "id": "hGmtXwTO1eXv",
        "colab_type": "code",
        "colab": {}
      },
      "source": [
        "# モデル式のパラメタ初期値\n",
        "weight_init = np.zeros((4,1))"
      ],
      "execution_count": 0,
      "outputs": []
    },
    {
      "cell_type": "code",
      "metadata": {
        "id": "gwaFbe9i2A--",
        "colab_type": "code",
        "colab": {}
      },
      "source": [
        "X_norm, mean, std = norm(X)\n",
        "X_padded = np.column_stack((np.ones((m,1)), X_norm))"
      ],
      "execution_count": 0,
      "outputs": []
    },
    {
      "cell_type": "code",
      "metadata": {
        "id": "abHIUFJw1pyU",
        "colab_type": "code",
        "colab": {}
      },
      "source": [
        "weight, J_history = gradientDescent(X_padded, y, weight_init, alpha, num_iters)"
      ],
      "execution_count": 0,
      "outputs": []
    },
    {
      "cell_type": "code",
      "metadata": {
        "id": "jXHBD-352TQO",
        "colab_type": "code",
        "colab": {
          "base_uri": "https://localhost:8080/",
          "height": 86
        },
        "outputId": "c9e3aa84-78a3-415a-ae5c-ba06412f4e1c"
      },
      "source": [
        "print(weight)"
      ],
      "execution_count": 16,
      "outputs": [
        {
          "output_type": "stream",
          "text": [
            "[[74.57745626]\n",
            " [ 2.22894853]\n",
            " [ 5.45280885]\n",
            " [ 3.22092053]]\n"
          ],
          "name": "stdout"
        }
      ]
    },
    {
      "cell_type": "code",
      "metadata": {
        "id": "NErIYPhP2ZGj",
        "colab_type": "code",
        "colab": {
          "base_uri": "https://localhost:8080/",
          "height": 191
        },
        "outputId": "58316735-3341-4245-92d0-64be6bd3d810"
      },
      "source": [
        "print(J_history[0:10])"
      ],
      "execution_count": 20,
      "outputs": [
        {
          "output_type": "stream",
          "text": [
            "[[2824.07567345]\n",
            " [2766.49260483]\n",
            " [2710.14022348]\n",
            " [2654.98960376]\n",
            " [2601.01262744]\n",
            " [2548.18195558]\n",
            " [2496.47100152]\n",
            " [2445.85390501]\n",
            " [2396.30550744]\n",
            " [2347.80132813]]\n"
          ],
          "name": "stdout"
        }
      ]
    },
    {
      "cell_type": "code",
      "metadata": {
        "id": "p7AQjxDg2hGk",
        "colab_type": "code",
        "colab": {}
      },
      "source": [
        ""
      ],
      "execution_count": 0,
      "outputs": []
    }
  ]
}