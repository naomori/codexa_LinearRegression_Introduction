{
  "nbformat": 4,
  "nbformat_minor": 0,
  "metadata": {
    "colab": {
      "name": "Chapter19.ipynb",
      "version": "0.3.2",
      "provenance": [],
      "include_colab_link": true
    },
    "kernelspec": {
      "name": "python3",
      "display_name": "Python 3"
    }
  },
  "cells": [
    {
      "cell_type": "markdown",
      "metadata": {
        "id": "view-in-github",
        "colab_type": "text"
      },
      "source": [
        "<a href=\"https://colab.research.google.com/github/naomori/codexa_LinearRegression_Introduction/blob/master/Chapter19.ipynb\" target=\"_parent\"><img src=\"https://colab.research.google.com/assets/colab-badge.svg\" alt=\"Open In Colab\"/></a>"
      ]
    },
    {
      "cell_type": "markdown",
      "metadata": {
        "id": "mu5YGSZ0oBvL",
        "colab_type": "text"
      },
      "source": [
        "# 重回帰分析とモデル\n",
        "\n",
        "#### 重回帰分析(特徴量2個)のモデル式\n",
        "\n",
        "$\\hat{y} = w_1x_1 + w_2x_2 + w_0x_0$\n",
        "\n",
        "$x_0 = 1$\n",
        "\n",
        "#### 重回帰分析(特徴量n個)のモデル式\n",
        "\n",
        "$\\hat{y} = w_1x_1 + w_2x_2 ... w_nx_n + w_0x_0$"
      ]
    },
    {
      "cell_type": "markdown",
      "metadata": {
        "id": "m8t1iNH9qa2Q",
        "colab_type": "text"
      },
      "source": [
        "## 計算式のベクトル化\n",
        "\n",
        "$\\hat{y} = X \\times W$\n",
        "\n",
        "$X = \\begin{pmatrix}\n",
        "x_0^{(1)} & x_1^{(1)} & x_2^{(1)} &x_3^{(1)} \\\\\n",
        "x_0^{(2)} & x_1^{(2)} & x_2^{(2)} &x_3^{(2)} \\\\\n",
        "x_0^{(3)} & x_1^{(3)} & x_2^{(3)} &x_3^{(3)} \\\\\n",
        "x_0^{(4)} & x_1^{(4)} & x_2^{(4)} &x_3^{(4)}\n",
        "\\end{pmatrix}$\n",
        "\n",
        "$x_0 = 1$なので...\n",
        "\n",
        "$X = \\begin{pmatrix}\n",
        "1 & x_1^{(1)} & x_2^{(1)} &x_3^{(1)} \\\\\n",
        "1 & x_1^{(2)} & x_2^{(2)} &x_3^{(2)} \\\\\n",
        "1 & x_1^{(3)} & x_2^{(3)} &x_3^{(3)} \\\\\n",
        "1 & x_1^{(4)} & x_2^{(4)} &x_3^{(4)}\n",
        "\\end{pmatrix}$\n",
        "\n",
        "* 各行は生徒を表し 49 行ある。\n",
        "* 各列は科目を表す\n",
        "\n",
        "\n",
        "* X は特徴量（行列）を表す\n",
        "* W はパラメタ（列ベクトル）を表す\n",
        "\n",
        "$W = \\begin{pmatrix}\n",
        "w_0 \\\\\n",
        "w_1 \\\\\n",
        "w_2 \\\\\n",
        "w_3 \\end{pmatrix}$\n"
      ]
    },
    {
      "cell_type": "markdown",
      "metadata": {
        "id": "kt0saTI6sF42",
        "colab_type": "text"
      },
      "source": [
        "$\\hat{y} = w_1x_1 + w_2x_2 + w_3x_3 + w_0x_0$\n",
        "\n",
        "なので、\n",
        "\n",
        "$\\begin{pmatrix}\n",
        "\\hat{y}^{(1)} \\\\\n",
        "\\hat{y}^{(2)} \\\\\n",
        "\\hat{y}^{(3)} \\\\\n",
        "\\hat{y}^{(4)}\n",
        "\\end{pmatrix}$"
      ]
    },
    {
      "cell_type": "code",
      "metadata": {
        "id": "Ing7TeoHoACm",
        "colab_type": "code",
        "colab": {}
      },
      "source": [
        ""
      ],
      "execution_count": 0,
      "outputs": []
    }
  ]
}